{
  "nbformat": 4,
  "nbformat_minor": 0,
  "metadata": {
    "colab": {
      "name": "COVID-19.ipynb",
      "provenance": []
    },
    "kernelspec": {
      "name": "python3",
      "display_name": "Python 3"
    },
    "widgets": {
      "application/vnd.jupyter.widget-state+json": {
        "77e029f4c14e475aba14d1cdd8c97be0": {
          "model_module": "@jupyter-widgets/controls",
          "model_name": "HBoxModel",
          "state": {
            "_view_name": "HBoxView",
            "_dom_classes": [],
            "_model_name": "HBoxModel",
            "_view_module": "@jupyter-widgets/controls",
            "_model_module_version": "1.5.0",
            "_view_count": null,
            "_view_module_version": "1.5.0",
            "box_style": "",
            "layout": "IPY_MODEL_9c33a582a0704f8886c086bec6b7edf8",
            "_model_module": "@jupyter-widgets/controls",
            "children": [
              "IPY_MODEL_2a9e42d42ff14749b33ec0c7c908c0a8",
              "IPY_MODEL_85476ab9fbc04062866eff36f4d09e1e"
            ]
          }
        },
        "9c33a582a0704f8886c086bec6b7edf8": {
          "model_module": "@jupyter-widgets/base",
          "model_name": "LayoutModel",
          "state": {
            "_view_name": "LayoutView",
            "grid_template_rows": null,
            "right": null,
            "justify_content": null,
            "_view_module": "@jupyter-widgets/base",
            "overflow": null,
            "_model_module_version": "1.2.0",
            "_view_count": null,
            "flex_flow": null,
            "width": null,
            "min_width": null,
            "border": null,
            "align_items": null,
            "bottom": null,
            "_model_module": "@jupyter-widgets/base",
            "top": null,
            "grid_column": null,
            "overflow_y": null,
            "overflow_x": null,
            "grid_auto_flow": null,
            "grid_area": null,
            "grid_template_columns": null,
            "flex": null,
            "_model_name": "LayoutModel",
            "justify_items": null,
            "grid_row": null,
            "max_height": null,
            "align_content": null,
            "visibility": null,
            "align_self": null,
            "height": null,
            "min_height": null,
            "padding": null,
            "grid_auto_rows": null,
            "grid_gap": null,
            "max_width": null,
            "order": null,
            "_view_module_version": "1.2.0",
            "grid_template_areas": null,
            "object_position": null,
            "object_fit": null,
            "grid_auto_columns": null,
            "margin": null,
            "display": null,
            "left": null
          }
        },
        "2a9e42d42ff14749b33ec0c7c908c0a8": {
          "model_module": "@jupyter-widgets/controls",
          "model_name": "FloatProgressModel",
          "state": {
            "_view_name": "ProgressView",
            "style": "IPY_MODEL_e57d90c785a040829d4d36d92a05ae54",
            "_dom_classes": [],
            "description": " 67%",
            "_model_name": "FloatProgressModel",
            "bar_style": "",
            "max": 2905,
            "_view_module": "@jupyter-widgets/controls",
            "_model_module_version": "1.5.0",
            "value": 1959,
            "_view_count": null,
            "_view_module_version": "1.5.0",
            "orientation": "horizontal",
            "min": 0,
            "description_tooltip": null,
            "_model_module": "@jupyter-widgets/controls",
            "layout": "IPY_MODEL_9ef39b6face140b5aeed0cc82b0746b1"
          }
        },
        "85476ab9fbc04062866eff36f4d09e1e": {
          "model_module": "@jupyter-widgets/controls",
          "model_name": "HTMLModel",
          "state": {
            "_view_name": "HTMLView",
            "style": "IPY_MODEL_9a0b2c833f3249099991a205db14151d",
            "_dom_classes": [],
            "description": "",
            "_model_name": "HTMLModel",
            "placeholder": "​",
            "_view_module": "@jupyter-widgets/controls",
            "_model_module_version": "1.5.0",
            "value": " 1959/2905 [00:37&lt;00:17, 54.62it/s]",
            "_view_count": null,
            "_view_module_version": "1.5.0",
            "description_tooltip": null,
            "_model_module": "@jupyter-widgets/controls",
            "layout": "IPY_MODEL_3195d3239e434821850a36bde45eac46"
          }
        },
        "e57d90c785a040829d4d36d92a05ae54": {
          "model_module": "@jupyter-widgets/controls",
          "model_name": "ProgressStyleModel",
          "state": {
            "_view_name": "StyleView",
            "_model_name": "ProgressStyleModel",
            "description_width": "initial",
            "_view_module": "@jupyter-widgets/base",
            "_model_module_version": "1.5.0",
            "_view_count": null,
            "_view_module_version": "1.2.0",
            "bar_color": null,
            "_model_module": "@jupyter-widgets/controls"
          }
        },
        "9ef39b6face140b5aeed0cc82b0746b1": {
          "model_module": "@jupyter-widgets/base",
          "model_name": "LayoutModel",
          "state": {
            "_view_name": "LayoutView",
            "grid_template_rows": null,
            "right": null,
            "justify_content": null,
            "_view_module": "@jupyter-widgets/base",
            "overflow": null,
            "_model_module_version": "1.2.0",
            "_view_count": null,
            "flex_flow": null,
            "width": null,
            "min_width": null,
            "border": null,
            "align_items": null,
            "bottom": null,
            "_model_module": "@jupyter-widgets/base",
            "top": null,
            "grid_column": null,
            "overflow_y": null,
            "overflow_x": null,
            "grid_auto_flow": null,
            "grid_area": null,
            "grid_template_columns": null,
            "flex": null,
            "_model_name": "LayoutModel",
            "justify_items": null,
            "grid_row": null,
            "max_height": null,
            "align_content": null,
            "visibility": null,
            "align_self": null,
            "height": null,
            "min_height": null,
            "padding": null,
            "grid_auto_rows": null,
            "grid_gap": null,
            "max_width": null,
            "order": null,
            "_view_module_version": "1.2.0",
            "grid_template_areas": null,
            "object_position": null,
            "object_fit": null,
            "grid_auto_columns": null,
            "margin": null,
            "display": null,
            "left": null
          }
        },
        "9a0b2c833f3249099991a205db14151d": {
          "model_module": "@jupyter-widgets/controls",
          "model_name": "DescriptionStyleModel",
          "state": {
            "_view_name": "StyleView",
            "_model_name": "DescriptionStyleModel",
            "description_width": "",
            "_view_module": "@jupyter-widgets/base",
            "_model_module_version": "1.5.0",
            "_view_count": null,
            "_view_module_version": "1.2.0",
            "_model_module": "@jupyter-widgets/controls"
          }
        },
        "3195d3239e434821850a36bde45eac46": {
          "model_module": "@jupyter-widgets/base",
          "model_name": "LayoutModel",
          "state": {
            "_view_name": "LayoutView",
            "grid_template_rows": null,
            "right": null,
            "justify_content": null,
            "_view_module": "@jupyter-widgets/base",
            "overflow": null,
            "_model_module_version": "1.2.0",
            "_view_count": null,
            "flex_flow": null,
            "width": null,
            "min_width": null,
            "border": null,
            "align_items": null,
            "bottom": null,
            "_model_module": "@jupyter-widgets/base",
            "top": null,
            "grid_column": null,
            "overflow_y": null,
            "overflow_x": null,
            "grid_auto_flow": null,
            "grid_area": null,
            "grid_template_columns": null,
            "flex": null,
            "_model_name": "LayoutModel",
            "justify_items": null,
            "grid_row": null,
            "max_height": null,
            "align_content": null,
            "visibility": null,
            "align_self": null,
            "height": null,
            "min_height": null,
            "padding": null,
            "grid_auto_rows": null,
            "grid_gap": null,
            "max_width": null,
            "order": null,
            "_view_module_version": "1.2.0",
            "grid_template_areas": null,
            "object_position": null,
            "object_fit": null,
            "grid_auto_columns": null,
            "margin": null,
            "display": null,
            "left": null
          }
        }
      }
    }
  },
  "cells": [
    {
      "cell_type": "code",
      "metadata": {
        "id": "n7PZPbYbIMjA",
        "colab_type": "code",
        "colab": {
          "base_uri": "https://localhost:8080/",
          "height": 326
        },
        "outputId": "3cb1acac-d4ba-47bb-e016-75e97dc26f36"
      },
      "source": [
        "!wget wget --header=\"Host: storage.googleapis.com\" --header=\"User-Agent: Mozilla/5.0 (X11; Linux x86_64) AppleWebKit/537.36 (KHTML, like Gecko) Chrome/85.0.4183.83 Safari/537.36\" --header=\"Accept: text/html,application/xhtml+xml,application/xml;q=0.9,image/avif,image/webp,image/apng,*/*;q=0.8,application/signed-exchange;v=b3;q=0.9\" --header=\"Accept-Language: en-IN,en-US;q=0.9,en-GB;q=0.8,en;q=0.7\" --header=\"Referer: https://www.kaggle.com/\" --header=\"Cookie: _ga=GA1.3.1544602667.1598896344\" --header=\"Connection: keep-alive\" \"https://storage.googleapis.com/kaggle-data-sets/576013%2F1042828%2Fbundle%2Farchive.zip?GoogleAccessId=gcp-kaggle-com@kaggle-161607.iam.gserviceaccount.com&Expires=1599935349&Signature=D66Fgi3oJ4WLI5Z1%2FJOnIDPllNCbrMesp9lN%2Bfrdu4puxjhyoTSLhKbpqXbWnwNHR3DrTD5jogdEBhYlur4LTl9EeqGzzX2xM%2FXDTq5I4h0EdUfwDG9AEQ2thtZgONGiV2g3PUCdMXp19aD4i0tRt2ITK8qULU2Q6WyqDn%2BSrL5iRM8g2KgfWbtJ%2BooXCxECAy9DZzFSE%2Fts8XnA%2B1mCuNdd96%2Fnztd7Iy4sMnnZWeqb8MkOAhtaIzBe5%2BhMeVkyW6WpnDPuWQhwODttQ8g5KK0aKgNhrX1rPbk7Tpcu3%2FRVl48%2Bf8tnrl8TY52FowqQXMUgYCghMCiID26pPfOQWQ%3D%3D\" -c -O '576013_1042828_bundle_archive.zip'"
      ],
      "execution_count": 1,
      "outputs": [
        {
          "output_type": "stream",
          "text": [
            "--2020-09-09 18:29:52--  http://wget/\n",
            "Resolving wget (wget)... failed: Name or service not known.\n",
            "wget: unable to resolve host address ‘wget’\n",
            "--2020-09-09 18:29:52--  https://storage.googleapis.com/kaggle-data-sets/576013%2F1042828%2Fbundle%2Farchive.zip?GoogleAccessId=gcp-kaggle-com@kaggle-161607.iam.gserviceaccount.com&Expires=1599935349&Signature=D66Fgi3oJ4WLI5Z1%2FJOnIDPllNCbrMesp9lN%2Bfrdu4puxjhyoTSLhKbpqXbWnwNHR3DrTD5jogdEBhYlur4LTl9EeqGzzX2xM%2FXDTq5I4h0EdUfwDG9AEQ2thtZgONGiV2g3PUCdMXp19aD4i0tRt2ITK8qULU2Q6WyqDn%2BSrL5iRM8g2KgfWbtJ%2BooXCxECAy9DZzFSE%2Fts8XnA%2B1mCuNdd96%2Fnztd7Iy4sMnnZWeqb8MkOAhtaIzBe5%2BhMeVkyW6WpnDPuWQhwODttQ8g5KK0aKgNhrX1rPbk7Tpcu3%2FRVl48%2Bf8tnrl8TY52FowqQXMUgYCghMCiID26pPfOQWQ%3D%3D\n",
            "Resolving storage.googleapis.com (storage.googleapis.com)... 64.233.189.128, 108.177.97.128, 108.177.125.128, ...\n",
            "Connecting to storage.googleapis.com (storage.googleapis.com)|64.233.189.128|:443... connected.\n",
            "HTTP request sent, awaiting response... 200 OK\n",
            "Length: 1233525951 (1.1G) [application/zip]\n",
            "Saving to: ‘576013_1042828_bundle_archive.zip’\n",
            "\n",
            "576013_1042828_bund 100%[===================>]   1.15G  28.2MB/s    in 51s     \n",
            "\n",
            "2020-09-09 18:30:44 (23.2 MB/s) - ‘576013_1042828_bundle_archive.zip’ saved [1233525951/1233525951]\n",
            "\n",
            "FINISHED --2020-09-09 18:30:44--\n",
            "Total wall clock time: 52s\n",
            "Downloaded: 1 files, 1.1G in 51s (23.2 MB/s)\n"
          ],
          "name": "stdout"
        }
      ]
    },
    {
      "cell_type": "code",
      "metadata": {
        "id": "CGJHe0KOIV3S",
        "colab_type": "code",
        "colab": {}
      },
      "source": [
        "!mkdir -p covid\n",
        "!unzip /content/576013_1042828_bundle_archive.zip -d covid "
      ],
      "execution_count": null,
      "outputs": []
    },
    {
      "cell_type": "code",
      "metadata": {
        "id": "habjFpVoJaOd",
        "colab_type": "code",
        "colab": {
          "base_uri": "https://localhost:8080/",
          "height": 51
        },
        "outputId": "a7460427-5218-40ba-8af3-c14a0e36da72"
      },
      "source": [
        "%cd covid\n",
        "!ls"
      ],
      "execution_count": 2,
      "outputs": [
        {
          "output_type": "stream",
          "text": [
            "/content/covid\n",
            "'COVID-19 Radiography Database'\n"
          ],
          "name": "stdout"
        }
      ]
    },
    {
      "cell_type": "code",
      "metadata": {
        "id": "_fHHc20XJdLj",
        "colab_type": "code",
        "colab": {},
        "cellView": "both"
      },
      "source": [
        "#@title\n",
        "\n",
        "import pandas as pd\n",
        "from pandas import plotting\n",
        "import numpy as np\n",
        "import cv2\n",
        "import os\n",
        "from tqdm import tqdm_notebook\n",
        "\n",
        "# for visualizations\n",
        "import matplotlib.pyplot as plt\n",
        "import seaborn as sns\n",
        "plt.style.use('fivethirtyeight')\n",
        "\n",
        "import warnings\n",
        "warnings.filterwarnings('ignore')"
      ],
      "execution_count": null,
      "outputs": []
    },
    {
      "cell_type": "code",
      "metadata": {
        "id": "n5Db9NnEJohV",
        "colab_type": "code",
        "colab": {
          "base_uri": "https://localhost:8080/",
          "height": 34
        },
        "outputId": "7a50195f-8e29-4744-c85e-4ea524896415"
      },
      "source": [
        "import tensorflow as tf\n",
        "print(\"Using Tensorflow version: {}\".format(tf.__version__))"
      ],
      "execution_count": 4,
      "outputs": [
        {
          "output_type": "stream",
          "text": [
            "Using Tensorflow version: 2.3.0\n"
          ],
          "name": "stdout"
        }
      ]
    },
    {
      "cell_type": "markdown",
      "metadata": {
        "id": "j_cPA8qeKTOr",
        "colab_type": "text"
      },
      "source": [
        "# Loading data"
      ]
    },
    {
      "cell_type": "code",
      "metadata": {
        "id": "FebwKAc2JsuU",
        "colab_type": "code",
        "colab": {}
      },
      "source": [
        "imagePaths = []\n",
        "for dirname, _, filenames in os.walk(os.getcwd()):\n",
        "    for filename in filenames:\n",
        "        if (filename[-3:] == 'png'):\n",
        "            imagePaths.append(os.path.join(dirname, filename))"
      ],
      "execution_count": 5,
      "outputs": []
    },
    {
      "cell_type": "code",
      "metadata": {
        "id": "Xf2TMlTcLNEL",
        "colab_type": "code",
        "colab": {
          "base_uri": "https://localhost:8080/",
          "height": 34
        },
        "outputId": "8965444a-0da5-4959-efe9-2acf7153f629"
      },
      "source": [
        "# Verifying length\n",
        "len(imagePaths) == 2905"
      ],
      "execution_count": 6,
      "outputs": [
        {
          "output_type": "execute_result",
          "data": {
            "text/plain": [
              "True"
            ]
          },
          "metadata": {
            "tags": []
          },
          "execution_count": 6
        }
      ]
    },
    {
      "cell_type": "code",
      "metadata": {
        "id": "xZTRXTs-N7L5",
        "colab_type": "code",
        "colab": {
          "base_uri": "https://localhost:8080/",
          "height": 49,
          "referenced_widgets": [
            "77e029f4c14e475aba14d1cdd8c97be0",
            "9c33a582a0704f8886c086bec6b7edf8",
            "2a9e42d42ff14749b33ec0c7c908c0a8",
            "85476ab9fbc04062866eff36f4d09e1e",
            "e57d90c785a040829d4d36d92a05ae54",
            "9ef39b6face140b5aeed0cc82b0746b1",
            "9a0b2c833f3249099991a205db14151d",
            "3195d3239e434821850a36bde45eac46"
          ]
        },
        "outputId": "8029d1ba-aa23-485c-958d-54320b2e4525"
      },
      "source": [
        "X = []\n",
        "y = []\n",
        "resize = 224\n",
        "\n",
        "for image_path in tqdm_notebook(imagePaths):\n",
        "    label = image_path.split(os.path.sep)[-2]\n",
        "    image = cv2.imread(image_path)\n",
        "    image = cv2.cvtColor(image, cv2.COLOR_BGR2RGB)\n",
        "    image = cv2.resize(image, (resize, resize)) / 255\n",
        "\n",
        "    X.append(image)\n",
        "    y.append(label)\n",
        "\n",
        "X = np.array(X)\n",
        "y = np.array(y)"
      ],
      "execution_count": null,
      "outputs": [
        {
          "output_type": "display_data",
          "data": {
            "application/vnd.jupyter.widget-view+json": {
              "model_id": "77e029f4c14e475aba14d1cdd8c97be0",
              "version_minor": 0,
              "version_major": 2
            },
            "text/plain": [
              "HBox(children=(FloatProgress(value=0.0, max=2905.0), HTML(value='')))"
            ]
          },
          "metadata": {
            "tags": []
          }
        }
      ]
    },
    {
      "cell_type": "markdown",
      "metadata": {
        "id": "HI4kDk5qKU5U",
        "colab_type": "text"
      },
      "source": [
        "# Analysis"
      ]
    },
    {
      "cell_type": "code",
      "metadata": {
        "id": "O8j6CMKeKWRB",
        "colab_type": "code",
        "colab": {}
      },
      "source": [
        "image = cv2.imread(imagePaths[0])\n",
        "plt.imshow(image);"
      ],
      "execution_count": null,
      "outputs": []
    },
    {
      "cell_type": "code",
      "metadata": {
        "id": "zug7bdZ_QC6e",
        "colab_type": "code",
        "colab": {}
      },
      "source": [
        "print(image.shape)"
      ],
      "execution_count": null,
      "outputs": []
    },
    {
      "cell_type": "code",
      "metadata": {
        "id": "0SgPSAVwPoGv",
        "colab_type": "code",
        "colab": {}
      },
      "source": [
        "df = pd.DataFrame(y,columns=['Labels'])\n",
        "sns.countplot(df['Labels'], palette=['red','yellow','green']);"
      ],
      "execution_count": null,
      "outputs": []
    },
    {
      "cell_type": "code",
      "metadata": {
        "id": "8m1xP8W5RRaG",
        "colab_type": "code",
        "colab": {}
      },
      "source": [
        "from tensorflow.keras.utils import to_categorical\n",
        "from sklearn.preprocessing import LabelEncoder\n",
        "from keras.utils import np_utils"
      ],
      "execution_count": null,
      "outputs": []
    },
    {
      "cell_type": "code",
      "metadata": {
        "id": "nfLsJo3YQUw_",
        "colab_type": "code",
        "colab": {}
      },
      "source": [
        "encoder = LabelEncoder()\n",
        "encoded_labels = encoder.fit_transform(y)\n",
        "y_encoded = np_utils.to_categorical(encoded_labels)"
      ],
      "execution_count": null,
      "outputs": []
    },
    {
      "cell_type": "code",
      "metadata": {
        "id": "szXjRTyDQOLB",
        "colab_type": "code",
        "colab": {}
      },
      "source": [
        "from sklearn.model_selection import train_test_split\n",
        "\n",
        "#Generate training and testing subsets\n",
        "X_train, X_test, y_train, y_test = train_test_split(X, y_encoded, test_size=0.25, stratify=y_encoded, random_state=42)\n",
        "\n",
        "print(X_train.shape)\n",
        "print(y_train.shape)\n",
        "print(X_test.shape)\n",
        "print(y_test.shape)"
      ],
      "execution_count": null,
      "outputs": []
    },
    {
      "cell_type": "markdown",
      "metadata": {
        "id": "0_6iM4yKKW13",
        "colab_type": "text"
      },
      "source": [
        "# Classification"
      ]
    },
    {
      "cell_type": "code",
      "metadata": {
        "id": "JVvp5DbGKXvP",
        "colab_type": "code",
        "colab": {}
      },
      "source": [
        ""
      ],
      "execution_count": null,
      "outputs": []
    }
  ]
}